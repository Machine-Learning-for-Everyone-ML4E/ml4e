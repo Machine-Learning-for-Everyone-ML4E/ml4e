{
 "cells": [
  {
   "cell_type": "code",
   "execution_count": 1,
   "metadata": {},
   "outputs": [],
   "source": [
    "cycles = [(0, 1.8771), (1.8771, 3.7543), (3.7543, 6.1071), (6.1071, 8.2502), (8.2502, 12.618), (12.618, 15.856)]\n",
    "path = \"./104_1b1_Al_sc_Litt3200.wav\""
   ]
  },
  {
   "cell_type": "code",
   "execution_count": 2,
   "metadata": {},
   "outputs": [
    {
     "name": "stdout",
     "output_type": "stream",
     "text": [
      "Splitting cycle 0\n",
      "Splitting cycle 1\n",
      "Splitting cycle 2\n",
      "Splitting cycle 3\n",
      "Splitting cycle 4\n",
      "Splitting cycle 5\n"
     ]
    },
    {
     "data": {
      "text/plain": [
       "[array([ 2.81389803e-05,  6.28829002e-06, -3.53790820e-05, ...,\n",
       "         1.12725951e-01,  1.12905644e-01,  1.13069341e-01], dtype=float32),\n",
       " array([0.11321738, 0.11335105, 0.11347234, ..., 0.00559503, 0.00551594,\n",
       "        0.00544712], dtype=float32),\n",
       " array([0.00537981, 0.00530438, 0.0052109 , ..., 0.06320333, 0.06291038,\n",
       "        0.06261098], dtype=float32),\n",
       " array([0.06230661, 0.06199819, 0.06168615, ..., 0.07140668, 0.07138192,\n",
       "        0.07133483], dtype=float32),\n",
       " array([ 0.07126743,  0.07118139,  0.07107802, ..., -0.03379042,\n",
       "        -0.03440148, -0.03499938], dtype=float32),\n",
       " array([-0.03558485, -0.03615897, -0.0367233 , ..., -0.0194989 ,\n",
       "        -0.01412833, -0.00869705], dtype=float32)]"
      ]
     },
     "execution_count": 2,
     "metadata": {},
     "output_type": "execute_result"
    }
   ],
   "source": [
    "from ml4e.splitters import CycleSplitter\n",
    "\n",
    "CycleSplitter(path, cycles)"
   ]
  }
 ],
 "metadata": {
  "kernelspec": {
   "display_name": "ml4e",
   "language": "python",
   "name": "python3"
  },
  "language_info": {
   "codemirror_mode": {
    "name": "ipython",
    "version": 3
   },
   "file_extension": ".py",
   "mimetype": "text/x-python",
   "name": "python",
   "nbconvert_exporter": "python",
   "pygments_lexer": "ipython3",
   "version": "3.10.14"
  }
 },
 "nbformat": 4,
 "nbformat_minor": 2
}
