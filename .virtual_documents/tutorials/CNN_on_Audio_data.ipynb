import torchvision
import torchvision.transforms as transforms
from torch.utils.data import DataLoader
import torch.nn as nn
import torch

# Define transformations
transform = transforms.Compose([
    transforms.ToTensor(),
    transforms.Normalize((0.5,), (0.5,))
])

# Load MNIST dataset
train_dataset = torchvision.datasets.MNIST(root='./data', train=True, transform=transform, download=True)
test_dataset = torchvision.datasets.MNIST(root='./data', train=False, transform=transform, download=True)

# Define dataloaders
train_loader = DataLoader(dataset=train_dataset, batch_size=64, shuffle=True)
test_loader = DataLoader(dataset=test_dataset, batch_size=64, shuffle=False)

from ml4e.models.CNN_LSTM import CNN_LSTM_Model
from ml4e.models.CNN_LSTM import CNN_LSTM_Model


# Initialize the model
num_classes = 10  # Number of output classes
model = CNN_LSTM_Model(num_classes)
model.cuda()

# Define loss function and optimizer
criterion = nn.CrossEntropyLoss()
optimizer = torch.optim.Adam(model.parameters(), lr=0.001)

# Training loop
num_epochs = 2
for epoch in range(num_epochs):
    for i, (images, labels) in enumerate(train_loader):
        outputs = model(images.cuda())
        loss = criterion(outputs, labels.cuda())

        optimizer.zero_grad()
        loss.backward()
        optimizer.step()
        
        if (i+1) % 400 == 0:
            print(f'Epoch [{epoch+1}/{num_epochs}], Step [{i+1}/{len(train_loader)}], Loss: {loss.item():.4f}')


# Test the model
model.eval()
model.cpu()
with torch.no_grad():
    correct = 0
    total = 0
    for images, labels in test_loader:
        outputs = model(images)
        _, predicted = torch.max(outputs.data, 1)
        total += labels.size(0)
        correct += (predicted == labels).sum().item()

    print(f'Accuracy of the model on the 10000 test images: {100 * correct / total}%')


from ml4e.datasets.respiratory import KaggleRespiratoryDataset

data = KaggleRespiratoryDataset()


data[0][1].shape


import torch.nn as nn
inp = data[0][1]
inp = inp.reshape([inp.shape[0], 1, inp.shape[1]])


print(inp.shape)
x = nn.Conv1d(1, 32, 3)(inp)
print(x.shape)
x = nn.Conv1d(32, 64, 3)(x)
print(x.shape)
x = nn.MaxPool1d(2)(x)
print(x.shape)
x = nn.ReLU()(x)
print(x.shape)
x = nn.Flatten()(x)
print(x.shape)
x = x.unsqueeze(1)
print(x.shape)
x, _ = nn.LSTM(64*7*7, 128, 1, batch_first=True)(x)
print(x.shape)


64*7*7


nn.Conv2d(1, 2, 1)(torch.tensor([[[1.]]]))


nn.Conv3d(1, 2, 1)(torch.tensor([[[[1.]]]]))
